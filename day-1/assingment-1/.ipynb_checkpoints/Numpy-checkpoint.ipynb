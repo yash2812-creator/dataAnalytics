{
 "cells": [
  {
   "cell_type": "code",
   "execution_count": 2,
   "id": "69b6e656-c46e-4a8b-97e8-38842452ad6d",
   "metadata": {},
   "outputs": [],
   "source": [
    "import pandas as pd\n",
    "import numpy as np\n"
   ]
  },
  {
   "cell_type": "raw",
   "id": "f309a449-648e-42d1-8040-671afda5ed96",
   "metadata": {},
   "source": [
    "NumPy\n",
    "1. Create an array of 10 zeros.\n",
    "2. Create an array of 10 ones.\n",
    "3. Create an array of 10 fives.\n"
   ]
  },
  {
   "cell_type": "code",
   "execution_count": 11,
   "id": "dae892b9-b88d-4611-99f2-eb182aaf0981",
   "metadata": {},
   "outputs": [
    {
     "name": "stdout",
     "output_type": "stream",
     "text": [
      "[0 0 0 0 0 0 0 0 0 0]\n",
      "[1 1 1 1 1 1 1 1 1 1]\n",
      "[5 5 5 5 5 5 5 5 5 5]\n"
     ]
    }
   ],
   "source": [
    "#1\n",
    "print(np.zeros(10,dtype=int))\n",
    "print(np.ones(10,dtype=int))\n",
    "print(np.full(10,5))\n"
   ]
  },
  {
   "cell_type": "raw",
   "id": "dbeff7a5-2d41-466b-b35d-3be127cfe94d",
   "metadata": {},
   "source": [
    "4. Create an array of the integers from 10 to 50.\n"
   ]
  },
  {
   "cell_type": "code",
   "execution_count": 17,
   "id": "400ee90b-4b87-49d9-958e-5746d299c80f",
   "metadata": {},
   "outputs": [
    {
     "data": {
      "text/plain": [
       "array([10, 11, 12, 13, 14, 15, 16, 17, 18, 19, 20, 21, 22, 23, 24, 25, 26,\n",
       "       27, 28, 29, 30, 31, 32, 33, 34, 35, 36, 37, 38, 39, 40, 41, 42, 43,\n",
       "       44, 45, 46, 47, 48, 49, 50])"
      ]
     },
     "execution_count": 17,
     "metadata": {},
     "output_type": "execute_result"
    }
   ],
   "source": [
    "#Create an array of the integers from 10 to 50.\n",
    "np.arange(10,51)\n",
    "\n",
    "\n"
   ]
  },
  {
   "cell_type": "code",
   "execution_count": 19,
   "id": "7cccc358-54e8-487a-b50d-c758620aacb1",
   "metadata": {},
   "outputs": [
    {
     "data": {
      "text/plain": [
       "array([10, 12, 14, 16, 18, 20, 22, 24, 26, 28, 30, 32, 34, 36, 38, 40, 42,\n",
       "       44, 46, 48, 50])"
      ]
     },
     "execution_count": 19,
     "metadata": {},
     "output_type": "execute_result"
    }
   ],
   "source": [
    "#5. Create an array of all the even integers from 10 to 50.\n",
    "np.arange(10,51,2)"
   ]
  },
  {
   "cell_type": "code",
   "execution_count": 21,
   "id": "077262fe-5529-4246-98b4-b5c63281dc79",
   "metadata": {},
   "outputs": [
    {
     "data": {
      "text/plain": [
       "array([[1, 0, 0],\n",
       "       [0, 1, 0],\n",
       "       [0, 0, 1]])"
      ]
     },
     "execution_count": 21,
     "metadata": {},
     "output_type": "execute_result"
    }
   ],
   "source": [
    "\n",
    "#7. Create a 3x3 identity matrix.\n",
    "np.eye(3,3,dtype=int)"
   ]
  },
  {
   "cell_type": "code",
   "execution_count": 23,
   "id": "cde6a5a1-91a8-4242-b832-ea65f6972cf5",
   "metadata": {},
   "outputs": [
    {
     "data": {
      "text/plain": [
       "array([[0, 1, 2],\n",
       "       [3, 4, 5],\n",
       "       [6, 7, 8]])"
      ]
     },
     "execution_count": 23,
     "metadata": {},
     "output_type": "execute_result"
    }
   ],
   "source": [
    "#6. Create a 3x3 matrix with values ranging from 0 to 8.\n",
    "np.arange(0,9).reshape(3,3)\n"
   ]
  },
  {
   "cell_type": "code",
   "execution_count": 35,
   "id": "7ec9f97c-5a20-4903-8079-b263af0fd93c",
   "metadata": {},
   "outputs": [
    {
     "data": {
      "text/plain": [
       "array([0.82089014, 0.48932899, 0.85165271, 0.82563012, 0.54158252,\n",
       "       0.18878321, 0.80681622, 0.70809877, 0.33573996, 0.95708682])"
      ]
     },
     "execution_count": 35,
     "metadata": {},
     "output_type": "execute_result"
    }
   ],
   "source": [
    "#8. Use NumPy to generate a random number between 0 and 1.\n",
    "np.random.rand(10)\n"
   ]
  },
  {
   "cell_type": "code",
   "execution_count": 37,
   "id": "49e57416-7999-47eb-9874-c5efd2b9cfdb",
   "metadata": {},
   "outputs": [
    {
     "data": {
      "text/plain": [
       "array([ 1.02348738, -0.37016796,  1.29188303,  0.38902235,  0.026493  ,\n",
       "        0.49050395, -0.73889297, -1.86483256, -1.00116309, -0.00957357,\n",
       "       -1.09607942,  1.30775953,  0.70854672,  1.2807116 , -0.09435416,\n",
       "       -0.13231436,  1.6901185 , -0.21407678, -0.95936003, -0.74800191,\n",
       "       -1.16472656, -1.43206165, -0.42648066,  1.63451475,  0.66264265])"
      ]
     },
     "execution_count": 37,
     "metadata": {},
     "output_type": "execute_result"
    }
   ],
   "source": [
    "#9. Use NumPy to generate an array of 25 random numbers sampled from a standard normal\n",
    "#distribution.\n",
    "np.random.randn(25)\n"
   ]
  },
  {
   "cell_type": "code",
   "execution_count": 38,
   "id": "f46af300-d381-4fc4-8f51-7ac44f38fa83",
   "metadata": {},
   "outputs": [
    {
     "data": {
      "text/plain": [
       "array([0.        , 0.05263158, 0.10526316, 0.15789474, 0.21052632,\n",
       "       0.26315789, 0.31578947, 0.36842105, 0.42105263, 0.47368421,\n",
       "       0.52631579, 0.57894737, 0.63157895, 0.68421053, 0.73684211,\n",
       "       0.78947368, 0.84210526, 0.89473684, 0.94736842, 1.        ])"
      ]
     },
     "execution_count": 38,
     "metadata": {},
     "output_type": "execute_result"
    }
   ],
   "source": [
    "#10. Create an array of 20 linearly spaced points between 0 and 1.\n",
    "np.linspace(0,1,20)"
   ]
  },
  {
   "cell_type": "code",
   "execution_count": 78,
   "id": "dd8bbc7a-7582-4438-b981-25c4ac402df4",
   "metadata": {},
   "outputs": [
    {
     "data": {
      "text/plain": [
       "array([[ 5, 22,  2, 15, 10],\n",
       "       [20, 10, 22,  1,  3],\n",
       "       [17,  2,  4, 12,  6],\n",
       "       [20, 11,  8, 10, 24],\n",
       "       [ 8, 23, 11,  4, 16]])"
      ]
     },
     "execution_count": 78,
     "metadata": {},
     "output_type": "execute_result"
    }
   ],
   "source": [
    "#11. Create a 5x5 matrix with values from 1 to 25.\n",
    "arr = np.random.randint(1,25,size=(5,5))\n",
    "arr"
   ]
  },
  {
   "cell_type": "code",
   "execution_count": 47,
   "id": "40fb4045-83ae-4898-859a-cc5fa2a84999",
   "metadata": {},
   "outputs": [
    {
     "data": {
      "text/plain": [
       "array([1, 2, 3, 4, 5])"
      ]
     },
     "execution_count": 47,
     "metadata": {},
     "output_type": "execute_result"
    }
   ],
   "source": [
    "#12. Extract the first row of a 2D array.\n",
    "arr[0]\n",
    "#arr[3:,3:]"
   ]
  },
  {
   "cell_type": "code",
   "execution_count": 49,
   "id": "77720355-f360-4ecc-a04f-8883cf6dac35",
   "metadata": {},
   "outputs": [
    {
     "data": {
      "text/plain": [
       "array([ 5, 10, 15, 20, 25])"
      ]
     },
     "execution_count": 49,
     "metadata": {},
     "output_type": "execute_result"
    }
   ],
   "source": [
    "#13. Extract the last column of a 2D array.\n",
    "arr[:,4]"
   ]
  },
  {
   "cell_type": "code",
   "execution_count": 50,
   "id": "341d4e2d-c229-4c75-9422-cb38d8aa28b2",
   "metadata": {},
   "outputs": [
    {
     "data": {
      "text/plain": [
       "325"
      ]
     },
     "execution_count": 50,
     "metadata": {},
     "output_type": "execute_result"
    }
   ],
   "source": [
    "#14. Find the sum of all elements in an array.\n",
    "arr.sum()"
   ]
  },
  {
   "cell_type": "code",
   "execution_count": 51,
   "id": "242bebef-7631-4fc2-b252-9e6ca7f27633",
   "metadata": {},
   "outputs": [
    {
     "data": {
      "text/plain": [
       "7.211102550927978"
      ]
     },
     "execution_count": 51,
     "metadata": {},
     "output_type": "execute_result"
    }
   ],
   "source": [
    "#15. Find the standard deviation of an array.\n",
    "arr.std()"
   ]
  },
  {
   "cell_type": "code",
   "execution_count": 71,
   "id": "873aa82e-43ef-420a-b79b-ba3ae9b5589d",
   "metadata": {},
   "outputs": [
    {
     "data": {
      "text/plain": [
       "(0, 1)"
      ]
     },
     "execution_count": 71,
     "metadata": {},
     "output_type": "execute_result"
    }
   ],
   "source": [
    "#16. Find the index of the maximum value in an array.\n",
    "#np.argmax(arr) -> converts the array in flatten array and return max element index\n",
    "#np.unravel_index -> convert one d array to 2 d array row = 1 // shape and column = 1 % shape and return tuple (0,1)\n",
    "np.unravel_index(np.argmax(arr),arr.shape)\n",
    "\n"
   ]
  },
  {
   "cell_type": "code",
   "execution_count": 87,
   "id": "427448a7-8822-41dd-91da-972f59413dad",
   "metadata": {},
   "outputs": [
    {
     "data": {
      "text/plain": [
       "array([[ 1,  3,  6, 12, 17],\n",
       "       [ 2,  4, 10, 15, 22],\n",
       "       [ 2,  5, 10, 16, 22],\n",
       "       [ 4,  8, 11, 20, 23],\n",
       "       [ 8, 10, 11, 20, 24]])"
      ]
     },
     "execution_count": 87,
     "metadata": {},
     "output_type": "execute_result"
    }
   ],
   "source": [
    "#17. Sort an array in ascending order.\n",
    "np.sort(arr,0)\n"
   ]
  },
  {
   "cell_type": "code",
   "execution_count": 93,
   "id": "874e4d71-6082-4018-bcfb-2f13166779ca",
   "metadata": {},
   "outputs": [
    {
     "data": {
      "text/plain": [
       "array([[ 2,  5, 10, 15, 22],\n",
       "       [ 1,  3, 10, 20, 22],\n",
       "       [ 2,  4,  6, 12, 17],\n",
       "       [ 8, 10, 11, 20, 24],\n",
       "       [ 4,  8, 11, 16, 23]])"
      ]
     },
     "execution_count": 93,
     "metadata": {},
     "output_type": "execute_result"
    }
   ],
   "source": [
    "#18. Reverse an array.\n",
    "arr[::-1]"
   ]
  },
  {
   "cell_type": "code",
   "execution_count": 94,
   "id": "390fe1b2-e01a-4a66-b0e3-35f2e23f02cc",
   "metadata": {},
   "outputs": [
    {
     "data": {
      "text/plain": [
       "array([ 2,  3,  6, 20, 23])"
      ]
     },
     "execution_count": 94,
     "metadata": {},
     "output_type": "execute_result"
    }
   ],
   "source": [
    "#19. Create a diagonal matrix from a given array.\n",
    "np.diag(arr)"
   ]
  },
  {
   "cell_type": "code",
   "execution_count": 95,
   "id": "4543d805-4e2b-4de8-bb9f-a68031a3b912",
   "metadata": {},
   "outputs": [
    {
     "data": {
      "text/plain": [
       "array([[56, 47, 52, 43],\n",
       "       [89, 47, 40, 51],\n",
       "       [ 1, 15, 18, 30],\n",
       "       [27, 34, 16, 53]])"
      ]
     },
     "execution_count": 95,
     "metadata": {},
     "output_type": "execute_result"
    }
   ],
   "source": [
    "#20. Create a 4x4 matrix with random integers between 1 and 100.\n",
    "np.random.randint(1,101,(4,4))"
   ]
  },
  {
   "cell_type": "code",
   "execution_count": null,
   "id": "2b2615ef-e107-4aff-93cd-d2384c5e904b",
   "metadata": {},
   "outputs": [],
   "source": []
  }
 ],
 "metadata": {
  "kernelspec": {
   "display_name": "Python 3 (ipykernel)",
   "language": "python",
   "name": "python3"
  },
  "language_info": {
   "codemirror_mode": {
    "name": "ipython",
    "version": 3
   },
   "file_extension": ".py",
   "mimetype": "text/x-python",
   "name": "python",
   "nbconvert_exporter": "python",
   "pygments_lexer": "ipython3",
   "version": "3.12.3"
  }
 },
 "nbformat": 4,
 "nbformat_minor": 5
}
