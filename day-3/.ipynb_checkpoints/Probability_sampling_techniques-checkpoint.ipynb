{
 "cells": [
  {
   "cell_type": "code",
   "execution_count": 2,
   "id": "19e7a579-3339-4b66-9301-982256c81892",
   "metadata": {},
   "outputs": [],
   "source": [
    "import pandas as pd\n",
    "import numpy as np\n",
    "import matplotlib.pyplot\n",
    "import seaborn as sns\n"
   ]
  },
  {
   "cell_type": "code",
   "execution_count": 3,
   "id": "3b3c8171-1ebb-4cdc-896c-9213c9a78809",
   "metadata": {},
   "outputs": [],
   "source": [
    "df_2015 = pd.read_csv('../dataset/marathon_results_2015.csv')\n",
    "df_2016 = pd.read_csv('../dataset/marathon_results_2016.csv')\n",
    "df_2017 = pd.read_csv('../dataset/marathon_results_2017.csv')\n",
    "\n",
    "df = pd.concat([df_2015,df_2016,df_2017])"
   ]
  },
  {
   "cell_type": "code",
   "execution_count": 5,
   "id": "cb2e2d0a-db65-451d-b3df-0d0cabed0991",
   "metadata": {},
   "outputs": [],
   "source": [
    "df[['Hours','Minutes','Seconds']] = df['Official Time'].str.split(':',expand=True).astype(int)\n",
    "\n",
    "df['Officail_Sec'] = df['Hours'] * 3600 + df['Minutes'] * 60+ df['Seconds']"
   ]
  },
  {
   "cell_type": "code",
   "execution_count": 9,
   "id": "28fadeb2-13b5-46bd-ae23-a675e4912f7b",
   "metadata": {},
   "outputs": [
    {
     "data": {
      "text/plain": [
       "13989.93"
      ]
     },
     "execution_count": 9,
     "metadata": {},
     "output_type": "execute_result"
    }
   ],
   "source": [
    "mue = df['Officail_Sec'].mean()\n",
    "round(mue,2)"
   ]
  },
  {
   "cell_type": "code",
   "execution_count": 11,
   "id": "e11b28f7-9bf5-47d1-94b3-6b14026a6492",
   "metadata": {},
   "outputs": [
    {
     "data": {
      "text/plain": [
       "7964"
      ]
     },
     "execution_count": 11,
     "metadata": {},
     "output_type": "execute_result"
    }
   ],
   "source": [
    "#Random Sampling 1/10 part of population data\n",
    "sample_df = df.sample(frac=0.1,random_state=42)\n",
    "len(sample_df)"
   ]
  },
  {
   "cell_type": "code",
   "execution_count": 13,
   "id": "53cf785b-b251-404d-9236-8c46e7af6d3a",
   "metadata": {},
   "outputs": [
    {
     "data": {
      "text/plain": [
       "13955.71"
      ]
     },
     "execution_count": 13,
     "metadata": {},
     "output_type": "execute_result"
    }
   ],
   "source": [
    "round(sample_df['Officail_Sec'].mean(),2)"
   ]
  },
  {
   "cell_type": "code",
   "execution_count": 28,
   "id": "b22cab8a-8ab2-45d4-a157-9f791b1842ab",
   "metadata": {},
   "outputs": [
    {
     "data": {
      "text/plain": [
       "13988.12"
      ]
     },
     "execution_count": 28,
     "metadata": {},
     "output_type": "execute_result"
    }
   ],
   "source": [
    "#Systematic sampling take the random nth sample \n",
    "systematic_sample = df.iloc[::7,:]\n",
    "len(systematic_sample)\n",
    "round(systematic_sample['Officail_Sec'].mean(),2)\n"
   ]
  },
  {
   "cell_type": "markdown",
   "id": "50e4e06d-f489-4fee-81ef-90bb5eaafc6d",
   "metadata": {},
   "source": [
    "Systematic sampling mean  can represent  the population mean "
   ]
  },
  {
   "cell_type": "code",
   "execution_count": 41,
   "id": "68bafff3-7de9-4b0f-8b5c-30e08035c3e9",
   "metadata": {},
   "outputs": [
    {
     "name": "stdout",
     "output_type": "stream",
     "text": [
      "male count : 4348.00\n",
      "female count : 3615.00\n"
     ]
    }
   ],
   "source": [
    "#Stratified sampling\n",
    "total_male = len(df[df['M/F'] == 'M'])\n",
    "total_female = len(df[df['M/F'] == 'F'])\n",
    "total_male = int(0.1 * total_male)\n",
    "total_female = int(0.1* total_female)\n",
    "male_df = df[df['M/F'] == 'M'].sample(n=total_male,random_state=42) \n",
    "female_df = df[df['M/F'] == 'F'].sample(n=total_female,random_state=42) \n",
    "\n",
    "stratified_sample = pd.concat([male_df,female_df])\n",
    "len(stratified_sample)\n",
    "\n",
    "print(f'male count : {len(male_df):.2f}')\n",
    "print(f'female count : {len(female_df):.2f}')\n"
   ]
  },
  {
   "cell_type": "code",
   "execution_count": 43,
   "id": "b84e8ce2-3dc3-4747-a724-e447eb6ac0d8",
   "metadata": {},
   "outputs": [
    {
     "data": {
      "text/plain": [
       "14009.49"
      ]
     },
     "execution_count": 43,
     "metadata": {},
     "output_type": "execute_result"
    }
   ],
   "source": [
    "round(stratified_sample['Officail_Sec'].mean(),2)"
   ]
  },
  {
   "cell_type": "code",
   "execution_count": 47,
   "id": "11424bb0-00a3-4587-80ce-d0fb464d1273",
   "metadata": {},
   "outputs": [
    {
     "data": {
      "text/plain": [
       "array(['KOR', 'TCA', 'VGB', 'BER', 'MAS', 'NZL', 'JAM', 'UKR', 'HUN',\n",
       "       'SLO', 'HKG', 'LUX', 'TPE', 'PAK', 'ZIM', 'COL', 'PHI', 'MLT',\n",
       "       'AHO', 'LIE', 'GRE', 'VEN', 'DOM', 'CRC', 'GER', 'POR', 'ECU',\n",
       "       'URU', 'SUI', 'BRA', 'CYP', 'DEN', 'FRA', 'JPN', 'TWN', 'ITA',\n",
       "       'POL', 'CRO', 'HON', 'CAN', 'VIE', 'JOR', 'BEL', 'RUS', 'ALB',\n",
       "       'KSA', 'BAR', 'MAR', 'CHN', 'CHI', 'MGL', 'USA'], dtype=object)"
      ]
     },
     "execution_count": 47,
     "metadata": {},
     "output_type": "execute_result"
    }
   ],
   "source": [
    "## clustering \n",
    "unique_country = df['Country'].unique()\n",
    "\n",
    "random_country = np.random.choice(unique_country,size=len(unique_country)//2,replace=False)\n",
    "random_country"
   ]
  },
  {
   "cell_type": "code",
   "execution_count": 50,
   "id": "0950ca30-7f98-4234-ac0c-2803986815c4",
   "metadata": {},
   "outputs": [
    {
     "data": {
      "text/plain": [
       "13989.93"
      ]
     },
     "execution_count": 50,
     "metadata": {},
     "output_type": "execute_result"
    }
   ],
   "source": [
    "cluster_sample  = df[df['Country'].isin(unique_country)]\n",
    "round(cluster_sample['Officail_Sec'].mean(),2)"
   ]
  },
  {
   "cell_type": "code",
   "execution_count": null,
   "id": "1109001a-0ca1-4088-8702-59c92ce1ae44",
   "metadata": {},
   "outputs": [],
   "source": []
  }
 ],
 "metadata": {
  "kernelspec": {
   "display_name": "Python 3 (ipykernel)",
   "language": "python",
   "name": "python3"
  },
  "language_info": {
   "codemirror_mode": {
    "name": "ipython",
    "version": 3
   },
   "file_extension": ".py",
   "mimetype": "text/x-python",
   "name": "python",
   "nbconvert_exporter": "python",
   "pygments_lexer": "ipython3",
   "version": "3.12.3"
  }
 },
 "nbformat": 4,
 "nbformat_minor": 5
}
